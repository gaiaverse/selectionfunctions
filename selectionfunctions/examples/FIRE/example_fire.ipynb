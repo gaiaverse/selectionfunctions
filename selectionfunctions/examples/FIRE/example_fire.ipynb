{
 "cells": [
  {
   "cell_type": "markdown",
   "metadata": {},
   "source": [
    "# Imports for plotting"
   ]
  },
  {
   "cell_type": "code",
   "execution_count": 1,
   "metadata": {},
   "outputs": [],
   "source": [
    "%matplotlib inline\n",
    "import matplotlib as mpl\n",
    "mpl.rcParams['figure.dpi']= 300\n",
    "%config InlineBackend.figure_format = 'retina'\n",
    "import matplotlib.pyplot as plt\n",
    "import numpy as np, healpy as hp, h5py, scipy"
   ]
  },
  {
   "cell_type": "code",
   "execution_count": 2,
   "metadata": {},
   "outputs": [],
   "source": [
    "%config Completer.use_jedi = False"
   ]
  },
  {
   "cell_type": "markdown",
   "metadata": {},
   "source": [
    "# Load data"
   ]
  },
  {
   "cell_type": "code",
   "execution_count": 3,
   "metadata": {},
   "outputs": [
    {
     "name": "stdout",
     "output_type": "stream",
     "text": [
      "<KeysViewHDF5 ['A0', 'a_g_bp_val', 'a_g_rp_val', 'a_g_val', 'age', 'alpha', 'b', 'b_true', 'bp_g', 'bp_g_int', 'bp_g_true', 'bp_rp', 'bp_rp_int', 'bp_rp_true', 'calcium', 'carbon', 'dec', 'dec_error', 'dec_true', 'dhel_true', 'dmod_true', 'e_bp_min_rp_val', 'ebv', 'feh', 'g_rp', 'g_rp_int', 'g_rp_true', 'helium', 'l', 'l_true', 'logg', 'lognh', 'lum_val', 'mact', 'magnesium', 'mini', 'mtip', 'neon', 'nitrogen', 'oxygen', 'parallax', 'parallax_error', 'parallax_over_error', 'parallax_true', 'parentid', 'partid', 'phot_bp_mean_mag', 'phot_bp_mean_mag_error', 'phot_bp_mean_mag_int', 'phot_bp_mean_mag_true', 'phot_g_mean_mag', 'phot_g_mean_mag_error', 'phot_g_mean_mag_int', 'phot_g_mean_mag_true', 'phot_rp_mean_mag', 'phot_rp_mean_mag_error', 'phot_rp_mean_mag_int', 'phot_rp_mean_mag_true', 'pmb_true', 'pmdec', 'pmdec_error', 'pmdec_true', 'pml_true', 'pmra', 'pmra_error', 'pmra_true', 'px_true', 'py_true', 'pz_true', 'ra', 'ra_error', 'ra_true', 'radial_velocity', 'radial_velocity_error', 'radial_velocity_true', 'random_index', 'silicon', 'source_id', 'sulphur', 'teff_val', 'vx_true', 'vy_true', 'vz_true']>\n"
     ]
    }
   ],
   "source": [
    "with h5py.File('/data/asfe2/Projects/sims/fire/lsr-1-rslice-5.m12f-res7100-md-sliced-gcat-dr2.hdf5', 'r') as hf:\n",
    "    print(hf.keys())"
   ]
  },
  {
   "cell_type": "code",
   "execution_count": 4,
   "metadata": {},
   "outputs": [],
   "source": [
    "data = {}\n",
    "keys = ['ra_true', 'dec_true', 'parallax_true', 'pmra_true', 'pmdec_true', 'phot_g_mean_mag_true']\n",
    "with h5py.File('/data/asfe2/Projects/sims/fire/lsr-1-rslice-5.m12f-res7100-md-sliced-gcat-dr2.hdf5', 'r') as hf:\n",
    "    for key in keys:\n",
    "        data[key]=hf[key][...]"
   ]
  },
  {
   "cell_type": "markdown",
   "metadata": {},
   "source": [
    "# Load Selection Function"
   ]
  },
  {
   "cell_type": "code",
   "execution_count": 5,
   "metadata": {},
   "outputs": [],
   "source": [
    "from selectionfunctions.config import config\n",
    "config['data_dir'] = '/data/asfe2/Projects/testselectionfunctions/'"
   ]
  },
  {
   "cell_type": "code",
   "execution_count": 6,
   "metadata": {},
   "outputs": [
    {
     "name": "stdout",
     "output_type": "stream",
     "text": [
      "Checking existing file to see if MD5 sum matches ...\n",
      "File exists. Not overwriting.\n",
      "Checking existing file to see if MD5 sum matches ...\n",
      "File exists. Not overwriting.\n"
     ]
    }
   ],
   "source": [
    "import selectionfunctions.cog_ii\n",
    "selectionfunctions.cog_ii.fetch()"
   ]
  },
  {
   "cell_type": "code",
   "execution_count": 7,
   "metadata": {},
   "outputs": [],
   "source": [
    "import selectionfunctions.cog_ii as CoGII\n",
    "from selectionfunctions.source import Source\n",
    "from selectionfunctions.map import coord2healpix"
   ]
  },
  {
   "cell_type": "markdown",
   "metadata": {},
   "source": [
    "The DR3 selection function is very approximate. It uses the magnitude relation for the DR2 selection function with the DR3 scanning law. We're working on a new DR3 selection function but we won't have it for a while."
   ]
  },
  {
   "cell_type": "code",
   "execution_count": 8,
   "metadata": {},
   "outputs": [
    {
     "name": "stdout",
     "output_type": "stream",
     "text": [
      "Loading auxilliary data ...\n",
      "Loading selection function ...\n",
      "Creating selection function interpolator...\n",
      "t = 5.335 s\n",
      "  auxilliary:   5.332 s\n",
      "          sf:   0.002 s\n",
      "interpolator:   0.001 s\n",
      "Loading auxilliary data ...\n"
     ]
    }
   ],
   "source": [
    "dr3_sf = CoGII.dr3_sf(version='modelAB',crowding=True)"
   ]
  },
  {
   "cell_type": "markdown",
   "metadata": {},
   "source": [
    "# Apparent magnitude uncertainty"
   ]
  },
  {
   "cell_type": "markdown",
   "metadata": {},
   "source": [
    "### G-band uncertainty per observation\n",
    "$G_\\mathrm{amp} = \\frac{\\sqrt{N_G}\\sigma_{F_G}}{F_G}$\n",
    "\n",
    "This is the expected G-band uncertainty per observation. I've taken the median in magnitude bins for all Gaia EDR3 data."
   ]
  },
  {
   "cell_type": "code",
   "execution_count": 9,
   "metadata": {},
   "outputs": [],
   "source": [
    "med_gamp = {}\n",
    "with h5py.File('median_gamp_edr3.h', 'r') as hf:\n",
    "    for key in ['magbin','med_gamp']: med_gamp[key]=hf[key][...]"
   ]
  },
  {
   "cell_type": "code",
   "execution_count": 10,
   "metadata": {},
   "outputs": [],
   "source": [
    "gamp_interp = scipy.interpolate.interp1d(med_gamp['magbin']+0.05, med_gamp['med_gamp'], bounds_error=False)"
   ]
  },
  {
   "cell_type": "code",
   "execution_count": 11,
   "metadata": {},
   "outputs": [],
   "source": [
    "phot_g_error_amp = gamp_interp(data['phot_g_mean_mag_true'])"
   ]
  },
  {
   "cell_type": "markdown",
   "metadata": {},
   "source": [
    "### Expected number of observations\n",
    "\n",
    "$N_\\mathrm{transit}$ is the expected number of scans across the sky from the scanning law. This is saved inside the dr3 selection function as \"_n_field\".\n",
    "\n",
    "I've used the Beta-Binomial distribution to get the expected number of G-band observations."
   ]
  },
  {
   "cell_type": "code",
   "execution_count": 12,
   "metadata": {},
   "outputs": [],
   "source": [
    "coords = Source(data['ra_true'], data['dec_true'], unit='deg', frame='icrs', \n",
    "                photometry={'gaia_g':data['phot_g_mean_mag_true']})"
   ]
  },
  {
   "cell_type": "code",
   "execution_count": 13,
   "metadata": {},
   "outputs": [],
   "source": [
    "# Get healpix pixels\n",
    "hpxidx = coord2healpix(coords.coord, 'icrs', dr3_sf._nside, nest=True)\n",
    "# Get number of transits from scanning law.\n",
    "n_transit = dr3_sf._n_field[hpxidx]"
   ]
  },
  {
   "cell_type": "code",
   "execution_count": 14,
   "metadata": {},
   "outputs": [],
   "source": [
    "# G-observations efficiency\n",
    "exp_eff = {}\n",
    "with h5py.File('expected_gobs_efficiency_edr3.h', 'r') as hf:\n",
    "    for key in ['magbin','mean_eff']: exp_eff[key]=hf[key][...]"
   ]
  },
  {
   "cell_type": "code",
   "execution_count": 15,
   "metadata": {},
   "outputs": [],
   "source": [
    "# Expected value of Beta-Binomial distribution\n",
    "eff_interp = scipy.interpolate.interp1d(exp_eff['magbin']+0.05, exp_eff['mean_eff'], bounds_error=False)"
   ]
  },
  {
   "cell_type": "code",
   "execution_count": 16,
   "metadata": {},
   "outputs": [],
   "source": [
    "# There are 9 CCD observations per transit in Gaia. \n",
    "# The efficiency is the expected number of CCD observations which results in a G-band measurement.\n",
    "phot_g_n_obs = n_transit * 9 * eff_interp(data['phot_g_mean_mag_true'])"
   ]
  },
  {
   "cell_type": "markdown",
   "metadata": {},
   "source": [
    "### Expected G uncertainty\n",
    "\n",
    "Invert the G flux amplitude to get back the flux error then use this to resample an observed apparent magnitude.\n",
    "\n",
    "$\\sigma_{F_G} = \\frac{G_\\mathrm{amp} F_G}{\\sqrt{N_G}}$"
   ]
  },
  {
   "cell_type": "code",
   "execution_count": 17,
   "metadata": {},
   "outputs": [],
   "source": [
    "data['phot_g_mean_flux_true'] = 10**(-data['phot_g_mean_mag_true']/2.5)"
   ]
  },
  {
   "cell_type": "code",
   "execution_count": 18,
   "metadata": {},
   "outputs": [],
   "source": [
    "data['phot_g_mean_flux_error'] = phot_g_error_amp * data['phot_g_mean_flux_true'] / np.sqrt(phot_g_n_obs)\n",
    "data['phot_g_mean_flux'] = np.random.normal(data['phot_g_mean_flux_true'], data['phot_g_mean_flux_error'])"
   ]
  },
  {
   "cell_type": "code",
   "execution_count": 19,
   "metadata": {},
   "outputs": [],
   "source": [
    "data['phot_g_mean_mag'] = -2.5*np.log10(data['phot_g_mean_flux'])"
   ]
  },
  {
   "cell_type": "markdown",
   "metadata": {},
   "source": [
    "## Apply Selection Function to survey data"
   ]
  },
  {
   "cell_type": "code",
   "execution_count": 20,
   "metadata": {},
   "outputs": [],
   "source": [
    "coords = Source(data['ra_true'], data['dec_true'], unit='deg', frame='icrs', \n",
    "                photometry={'gaia_g':data['phot_g_mean_mag']})"
   ]
  },
  {
   "cell_type": "code",
   "execution_count": 21,
   "metadata": {},
   "outputs": [],
   "source": [
    "# Evaluate selection probability\n",
    "data['prob_selection'] = dr3_sf(coords)"
   ]
  },
  {
   "cell_type": "code",
   "execution_count": 22,
   "metadata": {},
   "outputs": [],
   "source": [
    "# Draw selected sample from Bernoulli distribution\n",
    "data['selected'] = np.random.rand(len(data['prob_selection']))<data['prob_selection']"
   ]
  },
  {
   "cell_type": "markdown",
   "metadata": {},
   "source": [
    "# Load Astrometric Spread Function"
   ]
  },
  {
   "cell_type": "code",
   "execution_count": 23,
   "metadata": {},
   "outputs": [],
   "source": [
    "from scanninglaw.config import config\n",
    "config['data_dir'] = '/data/asfe2/Projects/testscanninglaw/'"
   ]
  },
  {
   "cell_type": "code",
   "execution_count": 24,
   "metadata": {},
   "outputs": [
    {
     "name": "stdout",
     "output_type": "stream",
     "text": [
      "Checking existing file \"/data/asfe2/Projects/testscanninglaw/cog/cog_edr3_asf_nominal.h5\" to see if MD5 sum matches ...\n",
      "File exists. Not overwriting.\n"
     ]
    }
   ],
   "source": [
    "import scanninglaw.asf\n",
    "scanninglaw.asf.fetch(version='dr3_nominal')"
   ]
  },
  {
   "cell_type": "code",
   "execution_count": 25,
   "metadata": {},
   "outputs": [],
   "source": [
    "import scanninglaw.asf as asf\n",
    "from scanninglaw.source import Source"
   ]
  },
  {
   "cell_type": "code",
   "execution_count": 26,
   "metadata": {},
   "outputs": [
    {
     "name": "stdout",
     "output_type": "stream",
     "text": [
      "Loading auxilliary data ...\n",
      "t = 0.006 s\n",
      "  auxilliary:   0.006 s\n"
     ]
    }
   ],
   "source": [
    "# Currently we only have the DR2 ASF. \n",
    "# I'm planning to use the EDR3 scanning law to estimate the updated version but a bit short of time just now.\n",
    "dr3_asf = asf.asf(version='dr3_nominal')"
   ]
  },
  {
   "cell_type": "markdown",
   "metadata": {},
   "source": [
    "## Estimate Covariance"
   ]
  },
  {
   "cell_type": "code",
   "execution_count": 27,
   "metadata": {},
   "outputs": [],
   "source": [
    "coords = Source(data['ra_true'], data['dec_true'], unit='deg', frame='icrs', \n",
    "                photometry={'gaia_g':data['phot_g_mean_mag']})"
   ]
  },
  {
   "cell_type": "code",
   "execution_count": 28,
   "metadata": {},
   "outputs": [
    {
     "name": "stdout",
     "output_type": "stream",
     "text": [
      "CPU times: user 23 s, sys: 12.2 s, total: 35.1 s\n",
      "Wall time: 11.2 s\n"
     ]
    }
   ],
   "source": [
    "%time covariance = dr3_asf(coords)"
   ]
  },
  {
   "cell_type": "code",
   "execution_count": 29,
   "metadata": {},
   "outputs": [],
   "source": [
    "pars = ['ra', 'dec', 'parallax', 'pmra', 'pmdec']\n",
    "for i in range(5):\n",
    "    for j in range(i+1):\n",
    "        if i==j: data[pars[i]+'_error'] = np.sqrt(covariance[i,j])\n",
    "        else: data[pars[j]+'_'+pars[i]+'_corr'] = covariance[i,j]/np.sqrt(covariance[i,i]*covariance[j,j])"
   ]
  },
  {
   "cell_type": "markdown",
   "metadata": {},
   "source": [
    "## Draw astrometry from uncertainty"
   ]
  },
  {
   "cell_type": "code",
   "execution_count": 30,
   "metadata": {},
   "outputs": [],
   "source": [
    "r_true = np.array([data[par+'_true'] for par in pars]).T"
   ]
  },
  {
   "cell_type": "code",
   "execution_count": 31,
   "metadata": {},
   "outputs": [],
   "source": [
    "# Cholesky sampling\n",
    "chol = np.linalg.cholesky(np.moveaxis(covariance,2,0))\n",
    "normal_draw = np.random.normal(0,1,size=(r_true.shape[0], 5))\n",
    "r_observed = (chol@normal_draw[:,:,None])[:,:,0]"
   ]
  },
  {
   "cell_type": "code",
   "execution_count": 32,
   "metadata": {},
   "outputs": [],
   "source": [
    "for i, par in enumerate(pars):\n",
    "    data[par] = r_observed[:,i]"
   ]
  },
  {
   "cell_type": "code",
   "execution_count": 33,
   "metadata": {
    "scrolled": true
   },
   "outputs": [
    {
     "data": {
      "text/plain": [
       "{'ra_true': array([283.83672593, 284.00974235, 277.0753315 , ..., 291.76433796,\n",
       "        285.62463018, 284.35179703]),\n",
       " 'dec_true': array([ -9.93852985,  -8.02840473,  -9.10765778, ..., -29.72356809,\n",
       "        -30.20804083, -32.92743411]),\n",
       " 'parallax_true': array([0.13658888, 0.13663149, 0.13693351, ..., 0.13636245, 0.13676623,\n",
       "        0.1346569 ]),\n",
       " 'pmra_true': array([ -1.72112848,  -1.84009815,  -2.50622303, ..., -10.1635837 ,\n",
       "          1.13589567,   1.92823289]),\n",
       " 'pmdec_true': array([-2.69772654, -3.05074041, -5.19629999, ..., -8.99596849,\n",
       "         0.23870632, -6.22867753]),\n",
       " 'phot_g_mean_mag_true': array([20.271832, 19.74104 , 19.719778, ..., 17.819677, 20.877844,\n",
       "        19.187195], dtype=float32),\n",
       " 'phot_g_mean_flux_true': array([7.7851645e-09, 1.2693585e-08, 1.2944602e-08, ..., 7.4495318e-08,\n",
       "        4.4551554e-09, 2.1140822e-08], dtype=float32),\n",
       " 'phot_g_mean_flux_error': array([6.56448250e-11, 6.10510410e-11, 5.40214643e-11, ...,\n",
       "        9.78550969e-11, 4.54193352e-11, 7.36850464e-11]),\n",
       " 'phot_g_mean_flux': array([7.75026509e-09, 1.27196441e-08, 1.29172328e-08, ...,\n",
       "        7.45600539e-08, 4.50145622e-09, 2.10627079e-08]),\n",
       " 'phot_g_mean_mag': array([20.27670861, 19.7388126 , 19.72207628, ..., 17.81873447,\n",
       "        20.86661742, 19.19121449]),\n",
       " 'prob_selection': array([0.99584607, 0.99926568, 0.99999222, ..., 1.        , 0.96176378,\n",
       "        0.99999809]),\n",
       " 'selected': array([ True,  True,  True, ...,  True,  True,  True]),\n",
       " 'ra_error': array([0.4839485 , 0.36078772, 0.32103705, ..., 0.09378339, 0.81998029,\n",
       "        0.24941373]),\n",
       " 'ra_dec_corr': array([0.16429068, 0.27235545, 0.21332924, ..., 0.25420523, 0.10682705,\n",
       "        0.29371456]),\n",
       " 'dec_error': array([0.45275028, 0.346919  , 0.29260758, ..., 0.0901988 , 0.74663087,\n",
       "        0.23845737]),\n",
       " 'ra_parallax_corr': array([ 0.08334575, -0.07392173, -0.06771374, ..., -0.00523632,\n",
       "         0.02013067, -0.09825192]),\n",
       " 'dec_parallax_corr': array([-0.2694948 , -0.34598645, -0.27405916, ..., -0.21831476,\n",
       "        -0.34306858, -0.3869766 ]),\n",
       " 'parallax_error': array([0.54792083, 0.41269284, 0.36443431, ..., 0.10481371, 0.94249005,\n",
       "        0.30364813]),\n",
       " 'ra_pmra_corr': array([-1.76789178e-01,  7.77753679e-05, -6.90128679e-02, ...,\n",
       "        -8.55629947e-02,  5.79608867e-02, -4.88053781e-02]),\n",
       " 'dec_pmra_corr': array([-0.14029656, -0.09148682, -0.17454242, ..., -0.21502898,\n",
       "        -0.20746076, -0.10488731]),\n",
       " 'parallax_pmra_corr': array([-0.1878955 , -0.10657715, -0.21919197, ..., -0.17528627,\n",
       "        -0.15693053, -0.255949  ]),\n",
       " 'pmra_error': array([0.57495836, 0.45905981, 0.38920966, ..., 0.11167213, 0.97858737,\n",
       "        0.28905574]),\n",
       " 'ra_pmdec_corr': array([-0.19273867, -0.13716739, -0.24016685, ..., -0.25690568,\n",
       "        -0.25664335, -0.23472001]),\n",
       " 'dec_pmdec_corr': array([-0.25384579, -0.05665429, -0.28340109, ..., -0.2589312 ,\n",
       "        -0.16420792, -0.30934372]),\n",
       " 'parallax_pmdec_corr': array([0.03819978, 0.08650291, 0.12816741, ..., 0.13920156, 0.05438262,\n",
       "        0.22334677]),\n",
       " 'pmra_pmdec_corr': array([0.20538522, 0.27665821, 0.23735129, ..., 0.27200162, 0.21906345,\n",
       "        0.24282694]),\n",
       " 'pmdec_error': array([0.49875081, 0.39879029, 0.32961352, ..., 0.10530067, 0.82465568,\n",
       "        0.25018433]),\n",
       " 'ra': array([ 0.78185379,  0.09436429, -0.04605025, ..., -0.09866476,\n",
       "        -1.17290082,  0.05487244]),\n",
       " 'dec': array([ 0.17616306,  0.31501128, -0.0901814 , ..., -0.08216668,\n",
       "        -1.05721148,  0.00637501]),\n",
       " 'parallax': array([-0.54775505, -0.14543902,  0.2425648 , ..., -0.06362181,\n",
       "         1.34439032,  0.36127046]),\n",
       " 'pmra': array([-0.59572037,  0.47311101,  0.51258749, ...,  0.12148254,\n",
       "         0.25652733,  0.10213081]),\n",
       " 'pmdec': array([-0.51449799, -0.12286576, -0.47418297, ...,  0.13718406,\n",
       "         0.0909835 ,  0.39364235])}"
      ]
     },
     "execution_count": 33,
     "metadata": {},
     "output_type": "execute_result"
    }
   ],
   "source": [
    "data"
   ]
  }
 ],
 "metadata": {
  "kernelspec": {
   "display_name": "py36",
   "language": "python",
   "name": "py36"
  },
  "language_info": {
   "codemirror_mode": {
    "name": "ipython",
    "version": 3
   },
   "file_extension": ".py",
   "mimetype": "text/x-python",
   "name": "python",
   "nbconvert_exporter": "python",
   "pygments_lexer": "ipython3",
   "version": "3.6.13"
  }
 },
 "nbformat": 4,
 "nbformat_minor": 2
}
