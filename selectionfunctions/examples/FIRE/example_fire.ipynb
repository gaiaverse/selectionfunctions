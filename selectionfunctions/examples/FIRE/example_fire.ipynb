{
 "cells": [
  {
   "cell_type": "markdown",
   "metadata": {},
   "source": [
    "# Imports for plotting"
   ]
  },
  {
   "cell_type": "code",
   "execution_count": 1,
   "metadata": {},
   "outputs": [],
   "source": [
    "%matplotlib inline\n",
    "import matplotlib as mpl\n",
    "mpl.rcParams['figure.dpi']= 300\n",
    "%config InlineBackend.figure_format = 'retina'\n",
    "import matplotlib.pyplot as plt\n",
    "import numpy as np, healpy as hp, h5py, scipy"
   ]
  },
  {
   "cell_type": "code",
   "execution_count": 2,
   "metadata": {},
   "outputs": [],
   "source": [
    "%config Completer.use_jedi = False"
   ]
  },
  {
   "cell_type": "markdown",
   "metadata": {},
   "source": [
    "# Load data"
   ]
  },
  {
   "cell_type": "code",
   "execution_count": 3,
   "metadata": {},
   "outputs": [
    {
     "name": "stdout",
     "output_type": "stream",
     "text": [
      "<KeysViewHDF5 ['A0', 'a_g_bp_val', 'a_g_rp_val', 'a_g_val', 'age', 'alpha', 'b', 'b_true', 'bp_g', 'bp_g_int', 'bp_g_true', 'bp_rp', 'bp_rp_int', 'bp_rp_true', 'calcium', 'carbon', 'dec', 'dec_error', 'dec_true', 'dhel_true', 'dmod_true', 'e_bp_min_rp_val', 'ebv', 'feh', 'g_rp', 'g_rp_int', 'g_rp_true', 'helium', 'l', 'l_true', 'logg', 'lognh', 'lum_val', 'mact', 'magnesium', 'mini', 'mtip', 'neon', 'nitrogen', 'oxygen', 'parallax', 'parallax_error', 'parallax_over_error', 'parallax_true', 'parentid', 'partid', 'phot_bp_mean_mag', 'phot_bp_mean_mag_error', 'phot_bp_mean_mag_int', 'phot_bp_mean_mag_true', 'phot_g_mean_mag', 'phot_g_mean_mag_error', 'phot_g_mean_mag_int', 'phot_g_mean_mag_true', 'phot_rp_mean_mag', 'phot_rp_mean_mag_error', 'phot_rp_mean_mag_int', 'phot_rp_mean_mag_true', 'pmb_true', 'pmdec', 'pmdec_error', 'pmdec_true', 'pml_true', 'pmra', 'pmra_error', 'pmra_true', 'px_true', 'py_true', 'pz_true', 'ra', 'ra_error', 'ra_true', 'radial_velocity', 'radial_velocity_error', 'radial_velocity_true', 'random_index', 'silicon', 'source_id', 'sulphur', 'teff_val', 'vx_true', 'vy_true', 'vz_true']>\n"
     ]
    }
   ],
   "source": [
    "with h5py.File('/data/asfe2/Projects/sims/fire/lsr-1-rslice-5.m12f-res7100-md-sliced-gcat-dr2.hdf5', 'r') as hf:\n",
    "    print(hf.keys())"
   ]
  },
  {
   "cell_type": "code",
   "execution_count": 4,
   "metadata": {},
   "outputs": [],
   "source": [
    "data = {}\n",
    "keys = ['ra_true', 'dec_true', 'parallax_true', 'pmra_true', 'pmdec_true', 'phot_g_mean_mag_true']\n",
    "with h5py.File('/data/asfe2/Projects/sims/fire/lsr-1-rslice-5.m12f-res7100-md-sliced-gcat-dr2.hdf5', 'r') as hf:\n",
    "    for key in keys:\n",
    "        data[key]=hf[key][...]"
   ]
  },
  {
   "cell_type": "markdown",
   "metadata": {},
   "source": [
    "# Load Selection Function"
   ]
  },
  {
   "cell_type": "code",
   "execution_count": 5,
   "metadata": {},
   "outputs": [],
   "source": [
    "from selectionfunctions.config import config\n",
    "config['data_dir'] = '/data/asfe2/Projects/testselectionfunctions/'"
   ]
  },
  {
   "cell_type": "code",
   "execution_count": 6,
   "metadata": {},
   "outputs": [
    {
     "name": "stdout",
     "output_type": "stream",
     "text": [
      "Checking existing file to see if MD5 sum matches ...\n",
      "File exists. Not overwriting.\n",
      "Checking existing file to see if MD5 sum matches ...\n",
      "File exists. Not overwriting.\n"
     ]
    }
   ],
   "source": [
    "import selectionfunctions.cog_ii\n",
    "selectionfunctions.cog_ii.fetch()"
   ]
  },
  {
   "cell_type": "code",
   "execution_count": 7,
   "metadata": {},
   "outputs": [],
   "source": [
    "import selectionfunctions.cog_ii as CoGII\n",
    "from selectionfunctions.source import Source\n",
    "from selectionfunctions.map import coord2healpix"
   ]
  },
  {
   "cell_type": "markdown",
   "metadata": {},
   "source": [
    "The DR3 selection function is very approximate. It uses the magnitude relation for the DR2 selection function with the DR3 scanning law. We're working on a new DR3 selection function but we won't have it for a while."
   ]
  },
  {
   "cell_type": "code",
   "execution_count": 9,
   "metadata": {},
   "outputs": [
    {
     "name": "stdout",
     "output_type": "stream",
     "text": [
      "Loading auxilliary data ...\n",
      "Loading selection function ...\n",
      "Creating selection function interpolator...\n",
      "t = 4.941 s\n",
      "  auxilliary:   4.938 s\n",
      "          sf:   0.001 s\n",
      "interpolator:   0.001 s\n",
      "Loading auxilliary data ...\n"
     ]
    }
   ],
   "source": [
    "dr3_sf = CoGII.dr3_sf(version='modelAB',crowding=True)"
   ]
  },
  {
   "cell_type": "markdown",
   "metadata": {},
   "source": [
    "# Apparent magnitude uncertainty"
   ]
  },
  {
   "cell_type": "markdown",
   "metadata": {},
   "source": [
    "### G-band uncertainty per observation\n",
    "$G_\\mathrm{amp} = \\frac{\\sqrt{N_G}\\sigma_{F_G}}{F_G}$\n",
    "\n",
    "This is the expected G-band uncertainty per observation. I've taken the median in magnitude bins for all Gaia EDR3 data."
   ]
  },
  {
   "cell_type": "code",
   "execution_count": 10,
   "metadata": {},
   "outputs": [],
   "source": [
    "med_gamp = {}\n",
    "with h5py.File('median_gamp_edr3.h', 'r') as hf:\n",
    "    for key in ['magbin','med_gamp']: med_gamp[key]=hf[key][...]"
   ]
  },
  {
   "cell_type": "code",
   "execution_count": 11,
   "metadata": {},
   "outputs": [],
   "source": [
    "gamp_interp = scipy.interpolate.interp1d(med_gamp['magbin']+0.05, med_gamp['med_gamp'], bounds_error=False)"
   ]
  },
  {
   "cell_type": "code",
   "execution_count": 12,
   "metadata": {},
   "outputs": [],
   "source": [
    "phot_g_error_amp = gamp_interp(data['phot_g_mean_mag_true'])"
   ]
  },
  {
   "cell_type": "markdown",
   "metadata": {},
   "source": [
    "### Expected number of observations\n",
    "\n",
    "$N_\\mathrm{transit}$ is the expected number of scans across the sky from the scanning law. This is saved inside the dr3 selection function as \"_n_field\".\n",
    "\n",
    "I've used the Beta-Binomial distribution to get the expected number of G-band observations."
   ]
  },
  {
   "cell_type": "code",
   "execution_count": 13,
   "metadata": {},
   "outputs": [],
   "source": [
    "coords = Source(data['ra_true'], data['dec_true'], unit='deg', frame='icrs', \n",
    "                photometry={'gaia_g':data['phot_g_mean_mag_true']})"
   ]
  },
  {
   "cell_type": "code",
   "execution_count": 14,
   "metadata": {},
   "outputs": [],
   "source": [
    "# Get healpix pixels\n",
    "hpxidx = coord2healpix(coords.coord, 'icrs', dr3_sf._nside, nest=True)\n",
    "# Get number of transits from scanning law.\n",
    "n_transit = dr3_sf._n_field[hpxidx]"
   ]
  },
  {
   "cell_type": "code",
   "execution_count": 15,
   "metadata": {},
   "outputs": [],
   "source": [
    "# G-observations efficiency\n",
    "exp_eff = {}\n",
    "with h5py.File('expected_gobs_efficiency_edr3.h', 'r') as hf:\n",
    "    for key in ['magbin','mean_eff']: exp_eff[key]=hf[key][...]"
   ]
  },
  {
   "cell_type": "code",
   "execution_count": 16,
   "metadata": {},
   "outputs": [],
   "source": [
    "# Expected value of Beta-Binomial distribution\n",
    "eff_interp = scipy.interpolate.interp1d(exp_eff['magbin']+0.05, exp_eff['mean_eff'], bounds_error=False)"
   ]
  },
  {
   "cell_type": "code",
   "execution_count": 17,
   "metadata": {},
   "outputs": [],
   "source": [
    "# There are 9 CCD observations per transit in Gaia. \n",
    "# The efficiency is the expected number of CCD observations which results in a G-band measurement.\n",
    "phot_g_n_obs = n_transit * 9 * eff_interp(data['phot_g_mean_mag_true'])"
   ]
  },
  {
   "cell_type": "markdown",
   "metadata": {},
   "source": [
    "### Expected G uncertainty\n",
    "\n",
    "Invert the G flux amplitude to get back the flux error then use this to resample an observed apparent magnitude.\n",
    "\n",
    "$\\sigma_{F_G} = \\frac{G_\\mathrm{amp} F_G}{\\sqrt{N_G}}$"
   ]
  },
  {
   "cell_type": "code",
   "execution_count": 18,
   "metadata": {},
   "outputs": [],
   "source": [
    "data['phot_g_mean_flux_true'] = 10**(-data['phot_g_mean_mag_true']/2.5)"
   ]
  },
  {
   "cell_type": "code",
   "execution_count": 19,
   "metadata": {},
   "outputs": [],
   "source": [
    "data['phot_g_mean_flux_error'] = phot_g_error_amp * data['phot_g_mean_flux_true'] / np.sqrt(phot_g_n_obs)\n",
    "data['phot_g_mean_flux'] = np.random.normal(data['phot_g_mean_flux_true'], data['phot_g_mean_flux_error'])"
   ]
  },
  {
   "cell_type": "code",
   "execution_count": 20,
   "metadata": {},
   "outputs": [],
   "source": [
    "data['phot_g_mean_mag'] = -2.5*np.log10(data['phot_g_mean_flux'])"
   ]
  },
  {
   "cell_type": "markdown",
   "metadata": {},
   "source": [
    "## Apply Selection Function to survey data"
   ]
  },
  {
   "cell_type": "code",
   "execution_count": 21,
   "metadata": {},
   "outputs": [],
   "source": [
    "coords = Source(data['ra_true'], data['dec_true'], unit='deg', frame='icrs', \n",
    "                photometry={'gaia_g':data['phot_g_mean_mag']})"
   ]
  },
  {
   "cell_type": "code",
   "execution_count": 22,
   "metadata": {},
   "outputs": [],
   "source": [
    "# Evaluate selection probability\n",
    "data['prob_selection'] = dr3_sf(coords)"
   ]
  },
  {
   "cell_type": "code",
   "execution_count": 23,
   "metadata": {},
   "outputs": [],
   "source": [
    "# Draw selected sample from Bernoulli distribution\n",
    "data['selected'] = np.random.rand(len(data['prob_selection']))<data['prob_selection']"
   ]
  },
  {
   "cell_type": "markdown",
   "metadata": {},
   "source": [
    "# Load Astrometric Spread Function"
   ]
  },
  {
   "cell_type": "code",
   "execution_count": 24,
   "metadata": {},
   "outputs": [],
   "source": [
    "from scanninglaw.config import config\n",
    "config['data_dir'] = '/data/asfe2/Projects/testscanninglaw/'"
   ]
  },
  {
   "cell_type": "code",
   "execution_count": 25,
   "metadata": {},
   "outputs": [
    {
     "name": "stdout",
     "output_type": "stream",
     "text": [
      "Checking existing file \"/data/asfe2/Projects/testscanninglaw/cog/cog_dr2_asf_v1.h5\" to see if MD5 sum matches ...\n",
      "File exists. Not overwriting.\n"
     ]
    }
   ],
   "source": [
    "import scanninglaw.asf\n",
    "scanninglaw.asf.fetch()"
   ]
  },
  {
   "cell_type": "code",
   "execution_count": 26,
   "metadata": {},
   "outputs": [],
   "source": [
    "import scanninglaw.asf as asf\n",
    "from scanninglaw.source import Source"
   ]
  },
  {
   "cell_type": "code",
   "execution_count": 27,
   "metadata": {},
   "outputs": [
    {
     "name": "stdout",
     "output_type": "stream",
     "text": [
      "Loading auxilliary data ...\n",
      "t = 0.014 s\n",
      "  auxilliary:   0.014 s\n"
     ]
    }
   ],
   "source": [
    "# Currently we only have the DR2 ASF. \n",
    "# I'm planning to use the EDR3 scanning law to estimate the updated version but a bit short of time just now.\n",
    "dr2_asf = asf.asf(version='cogiv_2020')"
   ]
  },
  {
   "cell_type": "markdown",
   "metadata": {},
   "source": [
    "## Estimate Covariance"
   ]
  },
  {
   "cell_type": "code",
   "execution_count": 28,
   "metadata": {},
   "outputs": [],
   "source": [
    "coords = Source(data['ra_true'], data['dec_true'], unit='deg', frame='icrs', \n",
    "                photometry={'gaia_g':data['phot_g_mean_mag']})"
   ]
  },
  {
   "cell_type": "code",
   "execution_count": 29,
   "metadata": {},
   "outputs": [
    {
     "name": "stdout",
     "output_type": "stream",
     "text": [
      "CPU times: user 22.9 s, sys: 11.9 s, total: 34.8 s\n",
      "Wall time: 11.5 s\n"
     ]
    }
   ],
   "source": [
    "%time covariance = dr2_asf(coords)"
   ]
  },
  {
   "cell_type": "code",
   "execution_count": 30,
   "metadata": {},
   "outputs": [],
   "source": [
    "pars = ['ra', 'dec', 'parallax', 'pmra', 'pmdec']\n",
    "for i in range(5):\n",
    "    for j in range(i+1):\n",
    "        if i==j: data[pars[i]+'_error'] = np.sqrt(covariance[i,j])\n",
    "        else: data[pars[j]+'_'+pars[i]+'_corr'] = covariance[i,j]/np.sqrt(covariance[i,i]*covariance[j,j])"
   ]
  },
  {
   "cell_type": "markdown",
   "metadata": {},
   "source": [
    "## Draw astrometry from uncertainty"
   ]
  },
  {
   "cell_type": "code",
   "execution_count": 31,
   "metadata": {},
   "outputs": [],
   "source": [
    "r_true = np.array([data[par+'_true'] for par in pars]).T"
   ]
  },
  {
   "cell_type": "code",
   "execution_count": 32,
   "metadata": {},
   "outputs": [],
   "source": [
    "# Cholesky sampling\n",
    "chol = np.linalg.cholesky(np.moveaxis(covariance,2,0))\n",
    "normal_draw = np.random.normal(0,1,size=(r_true.shape[0], 5))\n",
    "r_observed = (chol@normal_draw[:,:,None])[:,:,0]"
   ]
  },
  {
   "cell_type": "code",
   "execution_count": 33,
   "metadata": {},
   "outputs": [],
   "source": [
    "for i, par in enumerate(pars):\n",
    "    data[par] = r_observed[:,i]"
   ]
  },
  {
   "cell_type": "code",
   "execution_count": 34,
   "metadata": {},
   "outputs": [
    {
     "data": {
      "text/plain": [
       "{'ra_true': array([283.83672593, 284.00974235, 277.0753315 , ..., 291.76433796,\n",
       "        285.62463018, 284.35179703]),\n",
       " 'dec_true': array([ -9.93852985,  -8.02840473,  -9.10765778, ..., -29.72356809,\n",
       "        -30.20804083, -32.92743411]),\n",
       " 'parallax_true': array([0.13658888, 0.13663149, 0.13693351, ..., 0.13636245, 0.13676623,\n",
       "        0.1346569 ]),\n",
       " 'pmra_true': array([ -1.72112848,  -1.84009815,  -2.50622303, ..., -10.1635837 ,\n",
       "          1.13589567,   1.92823289]),\n",
       " 'pmdec_true': array([-2.69772654, -3.05074041, -5.19629999, ..., -8.99596849,\n",
       "         0.23870632, -6.22867753]),\n",
       " 'phot_g_mean_mag_true': array([20.271832, 19.74104 , 19.719778, ..., 17.819677, 20.877844,\n",
       "        19.187195], dtype=float32),\n",
       " 'phot_g_mean_flux_true': array([7.7851645e-09, 1.2693585e-08, 1.2944602e-08, ..., 7.4495318e-08,\n",
       "        4.4551554e-09, 2.1140822e-08], dtype=float32),\n",
       " 'phot_g_mean_flux_error': array([6.56448250e-11, 6.10510410e-11, 5.40214643e-11, ...,\n",
       "        9.78550969e-11, 4.54193352e-11, 7.36850464e-11]),\n",
       " 'phot_g_mean_flux': array([7.72392154e-09, 1.27036165e-08, 1.30245510e-08, ...,\n",
       "        7.44262314e-08, 4.47914973e-09, 2.11228047e-08]),\n",
       " 'phot_g_mean_mag': array([20.28040537, 19.74018157, 19.7130931 , ..., 17.82068493,\n",
       "        20.87201105, 19.18812104]),\n",
       " 'prob_selection': array([0.99580518, 0.99926258, 0.99999241, ..., 1.        , 0.95857036,\n",
       "        0.99999813]),\n",
       " 'selected': array([ True,  True,  True, ...,  True,  True,  True]),\n",
       " 'ra_error': array([0.9033838 , 0.54046939, 0.53894437, ..., 0.12258664, 1.43797311,\n",
       "        0.32167416]),\n",
       " 'ra_dec_corr': array([0.56762557, 0.51721622, 0.56360329, ..., 0.37911566, 0.35514376,\n",
       "        0.36245562]),\n",
       " 'dec_error': array([0.87569694, 0.52161944, 0.51875311, ..., 0.12469833, 1.38419113,\n",
       "        0.33705703]),\n",
       " 'ra_parallax_corr': array([ 0.12800094, -0.04678935,  0.03750632, ..., -0.06463052,\n",
       "         0.04383318, -0.09763315]),\n",
       " 'dec_parallax_corr': array([-0.11645531, -0.24697783, -0.15239861, ..., -0.29755491,\n",
       "        -0.25489608, -0.48453108]),\n",
       " 'parallax_error': array([0.81748871, 0.5582748 , 0.50606472, ..., 0.14064471, 1.52891212,\n",
       "        0.41568108]),\n",
       " 'ra_pmra_corr': array([-0.42352829, -0.17543584, -0.40870034, ..., -0.15982761,\n",
       "        -0.23228153, -0.18579549]),\n",
       " 'dec_pmra_corr': array([-0.47272857, -0.10823451, -0.41948671, ..., -0.24579582,\n",
       "        -0.2927462 , -0.10416423]),\n",
       " 'parallax_pmra_corr': array([-0.19299247, -0.08101713, -0.14521007, ..., -0.19122452,\n",
       "        -0.16158664, -0.33391053]),\n",
       " 'pmra_error': array([1.8024314 , 1.233573  , 1.17012996, ..., 0.24711003, 2.86216076,\n",
       "        0.58679118]),\n",
       " 'ra_pmdec_corr': array([-0.51665314, -0.17212771, -0.45050268, ..., -0.31971577,\n",
       "        -0.35043383, -0.34086299]),\n",
       " 'dec_pmdec_corr': array([-0.46959587, -0.13301181, -0.42061142, ..., -0.33851173,\n",
       "        -0.3475196 , -0.3816772 ]),\n",
       " 'parallax_pmdec_corr': array([-0.01851831,  0.20244866,  0.15424329, ...,  0.18302025,\n",
       "         0.10594128,  0.21938464]),\n",
       " 'pmra_pmdec_corr': array([0.61404402, 0.68465917, 0.69277358, ..., 0.48878375, 0.32851291,\n",
       "        0.28701253]),\n",
       " 'pmdec_error': array([1.84542389, 1.27068617, 1.19070076, ..., 0.26247616, 2.70700668,\n",
       "        0.55175367]),\n",
       " 'ra': array([ 0.67572499, -0.87111945, -0.33874565, ...,  0.06514495,\n",
       "         0.82635639, -0.30354103]),\n",
       " 'dec': array([ 0.9049867 , -1.0390116 , -0.00742529, ...,  0.06215304,\n",
       "        -0.71470255, -0.75489475]),\n",
       " 'parallax': array([ 0.55614185, -0.2552551 ,  0.06179223, ..., -0.1270363 ,\n",
       "        -2.14024777,  0.28744427]),\n",
       " 'pmra': array([1.54973   , 0.24550955, 1.8362988 , ..., 0.16029783, 2.33009392,\n",
       "        0.06280439]),\n",
       " 'pmdec': array([ 1.66801914,  1.83427412,  1.45617144, ...,  0.17676685,\n",
       "        -1.6992528 ,  0.66388557])}"
      ]
     },
     "execution_count": 34,
     "metadata": {},
     "output_type": "execute_result"
    }
   ],
   "source": [
    "data"
   ]
  }
 ],
 "metadata": {
  "kernelspec": {
   "display_name": "py36",
   "language": "python",
   "name": "py36"
  },
  "language_info": {
   "codemirror_mode": {
    "name": "ipython",
    "version": 3
   },
   "file_extension": ".py",
   "mimetype": "text/x-python",
   "name": "python",
   "nbconvert_exporter": "python",
   "pygments_lexer": "ipython3",
   "version": "3.6.13"
  }
 },
 "nbformat": 4,
 "nbformat_minor": 2
}
